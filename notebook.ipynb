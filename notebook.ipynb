{
  "nbformat": 4,
  "nbformat_minor": 0,
  "metadata": {
    "kernelspec": {
      "name": "python3",
      "display_name": "Python 3",
      "language": "python"
    },
    "language_info": {
      "name": "python",
      "version": "3.6.4-final",
      "mimetype": "text/x-python",
      "codemirror_mode": {
        "name": "ipython",
        "version": 3
      },
      "pygments_lexer": "ipython3",
      "nbconvert_exporter": "python",
      "file_extension": ".py"
    },
    "colab": {
      "name": "notebook.ipynb",
      "provenance": []
    }
  },
  "cells": [
    {
      "cell_type": "markdown",
      "metadata": {
        "dc": {
          "key": "3"
        },
        "deletable": false,
        "editable": false,
        "run_control": {
          "frozen": true
        },
        "tags": [
          "context"
        ],
        "id": "9_oWGQnUOLGf"
      },
      "source": [
        "\n",
        "<p>In this notebook, we will detect how closely related Charles Darwin's books are to each other.</p>\n",
        "<p>To this purpose, we will develop <strong>a content-based book recommendation system</strong>, which will determine which books are close to each other based on how similar the discussed topics are. \n",
        "<p>Here are the books used in the recommendation system below.</p>"
      ]
    },
    {
      "cell_type": "code",
      "metadata": {
        "id": "mha_KrV-QJYl"
      },
      "source": [
        "# Import PyDrive and associated libraries.\n",
        "from pydrive.auth import GoogleAuth\n",
        "from pydrive.drive import GoogleDrive\n",
        "from google.colab import auth\n",
        "from oauth2client.client import GoogleCredentials\n",
        "import os\n",
        "\n",
        "# Authenticate and create the PyDrive client.\n",
        "auth.authenticate_user()\n",
        "gauth = GoogleAuth()\n",
        "gauth.credentials = GoogleCredentials.get_application_default()\n",
        "drive = GoogleDrive(gauth)\n",
        "\n",
        "local_download_path = os.path.expanduser('~/data')\n",
        "try:\n",
        "  os.makedirs(local_download_path)\n",
        "except: pass\n",
        "\n",
        "file_list = drive.ListFile(\n",
        "    {'q': \"'1PgXqJ_WUsFU58vH6NOeKBzW9PcbcZKaq' in parents\"}).GetList()"
      ],
      "execution_count": 1,
      "outputs": []
    },
    {
      "cell_type": "markdown",
      "metadata": {
        "dc": {
          "key": "10"
        },
        "deletable": false,
        "editable": false,
        "run_control": {
          "frozen": true
        },
        "tags": [
          "context"
        ],
        "id": "05v86QGLOLGo"
      },
      "source": [
        "\n",
        "<p>Loading the contents of each book into Python to do some basic pre-processing to facilitate the downstream analyses. That is creating <strong>a corpus</strong>. Also will store the titles for these books for future reference and print their respective length to get a gauge for their contents.</p>"
      ]
    },
    {
      "cell_type": "code",
      "metadata": {
        "id": "vS1G4HQDSrz7",
        "outputId": "0b86f0cf-f1c3-4088-f23f-17a154da3826",
        "colab": {
          "base_uri": "https://localhost:8080/"
        }
      },
      "source": [
        "import re\n",
        "\n",
        "fnames = []\n",
        "titles = []\n",
        "for f in file_list:\n",
        "  titles.append(f['title'].split('.')[0])\n",
        "  fname = os.path.join(local_download_path, f['title'])\n",
        "  f_ = drive.CreateFile({'id': f['id']})\n",
        "  f_.GetContentFile(fname)\n",
        "  fnames.append(fname)\n",
        "\n",
        "print(fnames[:2])"
      ],
      "execution_count": 15,
      "outputs": [
        {
          "output_type": "stream",
          "text": [
            "['/root/data/Autobiography.txt', '/root/data/CoralReefs.txt']\n"
          ],
          "name": "stdout"
        }
      ]
    },
    {
      "cell_type": "code",
      "metadata": {
        "id": "UVbwO54STPOv",
        "outputId": "ef447a25-3cca-4764-dce8-991d9153624e",
        "colab": {
          "base_uri": "https://localhost:8080/"
        }
      },
      "source": [
        "txts = []\n",
        "for fn in fnames:\n",
        "  with open(fn, 'r') as f:\n",
        "    pattern = re.compile('[^a-zA-Z0-9\\s]+')\n",
        "    text = pattern.sub('', f.read())\n",
        "    txts.append(text)\n",
        "\n",
        "[len(t) for t in txts]"
      ],
      "execution_count": 16,
      "outputs": [
        {
          "output_type": "execute_result",
          "data": {
            "text/plain": [
              "[123229,\n",
              " 496539,\n",
              " 1785723,\n",
              " 616671,\n",
              " 919542,\n",
              " 624250,\n",
              " 342689,\n",
              " 534797,\n",
              " 796499,\n",
              " 904003,\n",
              " 1047646,\n",
              " 1014384,\n",
              " 777741,\n",
              " 1723333,\n",
              " 305219,\n",
              " 919177,\n",
              " 1094855,\n",
              " 1084841,\n",
              " 341193,\n",
              " 1154047]"
            ]
          },
          "metadata": {
            "tags": []
          },
          "execution_count": 16
        }
      ]
    },
    {
      "cell_type": "markdown",
      "metadata": {
        "dc": {
          "key": "17"
        },
        "deletable": false,
        "editable": false,
        "run_control": {
          "frozen": true
        },
        "tags": [
          "context"
        ],
        "id": "g37jly0UOLGt"
      },
      "source": [
        "\n",
        "<p>For the next parts of this analysis, we will often check the results returned by our method for a given book. For consistency, we will refer to Darwin's most famous book: \"<em>On the Origin of Species</em>.\" Let's find to which index this book is associated.</p>"
      ]
    },
    {
      "cell_type": "code",
      "metadata": {
        "dc": {
          "key": "17"
        },
        "tags": [
          "sample_code"
        ],
        "trusted": true,
        "id": "8Esjev-qOLGu",
        "outputId": "e8bfa566-5d28-47df-d0a9-8c9983f209f8",
        "colab": {
          "base_uri": "https://localhost:8080/"
        }
      },
      "source": [
        "titles_idx = {}\n",
        "for i in range(len(titles)):\n",
        "    # Storing the index of the titles for future reference\n",
        "    titles_idx[titles[i]] = i\n",
        "\n",
        "# Print the stored index\n",
        "print(titles_idx['OriginofSpecies'])"
      ],
      "execution_count": 17,
      "outputs": [
        {
          "output_type": "stream",
          "text": [
            "11\n"
          ],
          "name": "stdout"
        }
      ]
    },
    {
      "cell_type": "markdown",
      "metadata": {
        "dc": {
          "key": "24"
        },
        "deletable": false,
        "editable": false,
        "run_control": {
          "frozen": true
        },
        "tags": [
          "context"
        ],
        "id": "99j6zKd5OLGx"
      },
      "source": [
        "\n",
        "<p>Tokenizing and removing stop words from the text.</p>"
      ]
    },
    {
      "cell_type": "code",
      "metadata": {
        "dc": {
          "key": "24"
        },
        "tags": [
          "sample_code"
        ],
        "trusted": true,
        "id": "v9dHL5_jOLGy",
        "outputId": "70e7724c-a81a-4396-e925-31798f0aff7e",
        "colab": {
          "base_uri": "https://localhost:8080/"
        }
      },
      "source": [
        "# Defined a list of stop words\n",
        "stoplist = set('for a of the and to in to be which some is at that we i who whom show via may my our might as well'.split())\n",
        "\n",
        "txts_lower_case = [txt.casefold() for txt in txts]\n",
        "\n",
        "# Transforming the text into tokens \n",
        "txts_split = [txt.split() for txt in txts_lower_case]\n",
        "\n",
        "# Remove tokens which are part of the list of stop words\n",
        "texts = [[txt for txt in txts_split[i] if txt not in stoplist] for i in range(len(txts_split))]\n",
        "\n",
        "# Printing the first 20 tokens for the \"On the Origin of Species\" book\n",
        "print(texts[titles_idx['OriginofSpecies']][:20])"
      ],
      "execution_count": 18,
      "outputs": [
        {
          "output_type": "stream",
          "text": [
            "['life', 'letters', 'charles', 'darwin', 'including', 'an', 'autobiographical', 'chapter', 'edited', 'by', 'his', 'son', 'francis', 'darwin', 'two', 'volumes', 'volume', 'ii', 'table', 'contents']\n"
          ],
          "name": "stdout"
        }
      ]
    },
    {
      "cell_type": "markdown",
      "metadata": {
        "dc": {
          "key": "38"
        },
        "deletable": false,
        "editable": false,
        "run_control": {
          "frozen": true
        },
        "tags": [
          "context"
        ],
        "id": "jmk4jF_ROLHB"
      },
      "source": [
        "\n",
        "Building a bag-of-words model"
      ]
    },
    {
      "cell_type": "code",
      "metadata": {
        "dc": {
          "key": "38"
        },
        "tags": [
          "sample_code"
        ],
        "trusted": true,
        "id": "JzbIBMXuOLHB",
        "outputId": "5dfd73e1-b64d-4ef6-eaf1-d2a1e5457a10",
        "colab": {
          "base_uri": "https://localhost:8080/"
        }
      },
      "source": [
        "from gensim import corpora\n",
        "\n",
        "# Creating a dictionary from the stemmed tokens\n",
        "dictionary = corpora.Dictionary(texts)\n",
        "\n",
        "bows = [dictionary.doc2bow(book) for book in texts]\n",
        "\n",
        "# Printing the first five elements of the On the Origin of species' BoW model\n",
        "bows[titles_idx['OriginofSpecies']][:5]"
      ],
      "execution_count": 32,
      "outputs": [
        {
          "output_type": "execute_result",
          "data": {
            "text/plain": [
              "[(0, 34), (1, 12), (2, 6), (3, 7), (4, 7)]"
            ]
          },
          "metadata": {
            "tags": []
          },
          "execution_count": 32
        }
      ]
    },
    {
      "cell_type": "markdown",
      "metadata": {
        "dc": {
          "key": "45"
        },
        "deletable": false,
        "editable": false,
        "run_control": {
          "frozen": true
        },
        "tags": [
          "context"
        ],
        "id": "ZZKhQNX2OLHG"
      },
      "source": [
        "\n",
        "Finding the most common words of a given book"
      ]
    },
    {
      "cell_type": "code",
      "metadata": {
        "dc": {
          "key": "45"
        },
        "tags": [
          "sample_code"
        ],
        "trusted": true,
        "id": "YKrYdN3nOLHG",
        "outputId": "ca61a6fe-9a3a-4a00-fa3d-aaa1f07ccab4",
        "colab": {
          "base_uri": "https://localhost:8080/",
          "height": 359
        }
      },
      "source": [
        "import pandas as pd\n",
        "\n",
        "# Converting the BoW model for \"On the Origin of Species\" into a DataFrame\n",
        "df_bow_origin = pd.DataFrame(bows[titles_idx['OriginofSpecies']])\n",
        "\n",
        "# Adding the column names to the DataFrame\n",
        "df_bow_origin.columns = [\"index\", \"occurences\"]\n",
        "df_bow_origin.head()\n",
        "\n",
        "# Adding a column containing the token corresponding to the dictionary index\n",
        "df_bow_origin['token'] = [dictionary[i] for i in df_bow_origin['index']]\n",
        "df_bow_origin.tail()\n",
        "\n",
        "# Sorting the DataFrame by descending number of occurrences and print the first 10 values\n",
        "df_bow_origin.sort_values(by='occurences', ascending=False).head(10)"
      ],
      "execution_count": 33,
      "outputs": [
        {
          "output_type": "execute_result",
          "data": {
            "text/html": [
              "<div>\n",
              "<style scoped>\n",
              "    .dataframe tbody tr th:only-of-type {\n",
              "        vertical-align: middle;\n",
              "    }\n",
              "\n",
              "    .dataframe tbody tr th {\n",
              "        vertical-align: top;\n",
              "    }\n",
              "\n",
              "    .dataframe thead th {\n",
              "        text-align: right;\n",
              "    }\n",
              "</style>\n",
              "<table border=\"1\" class=\"dataframe\">\n",
              "  <thead>\n",
              "    <tr style=\"text-align: right;\">\n",
              "      <th></th>\n",
              "      <th>index</th>\n",
              "      <th>occurences</th>\n",
              "      <th>token</th>\n",
              "    </tr>\n",
              "  </thead>\n",
              "  <tbody>\n",
              "    <tr>\n",
              "      <th>2847</th>\n",
              "      <td>3620</td>\n",
              "      <td>2118</td>\n",
              "      <td>you</td>\n",
              "    </tr>\n",
              "    <tr>\n",
              "      <th>1225</th>\n",
              "      <td>1559</td>\n",
              "      <td>2083</td>\n",
              "      <td>have</td>\n",
              "    </tr>\n",
              "    <tr>\n",
              "      <th>1430</th>\n",
              "      <td>1818</td>\n",
              "      <td>1928</td>\n",
              "      <td>it</td>\n",
              "    </tr>\n",
              "    <tr>\n",
              "      <th>1808</th>\n",
              "      <td>2306</td>\n",
              "      <td>1848</td>\n",
              "      <td>on</td>\n",
              "    </tr>\n",
              "    <tr>\n",
              "      <th>1618</th>\n",
              "      <td>2064</td>\n",
              "      <td>1370</td>\n",
              "      <td>me</td>\n",
              "    </tr>\n",
              "    <tr>\n",
              "      <th>1757</th>\n",
              "      <td>2244</td>\n",
              "      <td>1286</td>\n",
              "      <td>not</td>\n",
              "    </tr>\n",
              "    <tr>\n",
              "      <th>2804</th>\n",
              "      <td>3570</td>\n",
              "      <td>1247</td>\n",
              "      <td>with</td>\n",
              "    </tr>\n",
              "    <tr>\n",
              "      <th>1227</th>\n",
              "      <td>1563</td>\n",
              "      <td>1204</td>\n",
              "      <td>he</td>\n",
              "    </tr>\n",
              "    <tr>\n",
              "      <th>395</th>\n",
              "      <td>503</td>\n",
              "      <td>1136</td>\n",
              "      <td>by</td>\n",
              "    </tr>\n",
              "    <tr>\n",
              "      <th>2850</th>\n",
              "      <td>3623</td>\n",
              "      <td>1114</td>\n",
              "      <td>your</td>\n",
              "    </tr>\n",
              "  </tbody>\n",
              "</table>\n",
              "</div>"
            ],
            "text/plain": [
              "      index  occurences token\n",
              "2847   3620        2118   you\n",
              "1225   1559        2083  have\n",
              "1430   1818        1928    it\n",
              "1808   2306        1848    on\n",
              "1618   2064        1370    me\n",
              "1757   2244        1286   not\n",
              "2804   3570        1247  with\n",
              "1227   1563        1204    he\n",
              "395     503        1136    by\n",
              "2850   3623        1114  your"
            ]
          },
          "metadata": {
            "tags": []
          },
          "execution_count": 33
        }
      ]
    },
    {
      "cell_type": "markdown",
      "metadata": {
        "dc": {
          "key": "52"
        },
        "deletable": false,
        "editable": false,
        "run_control": {
          "frozen": true
        },
        "tags": [
          "context"
        ],
        "id": "V8JT7bm1OLHJ"
      },
      "source": [
        "\n",
        "Building a tf-idf model"
      ]
    },
    {
      "cell_type": "code",
      "metadata": {
        "dc": {
          "key": "52"
        },
        "tags": [
          "sample_code"
        ],
        "trusted": true,
        "id": "fboyx3sqOLHK",
        "outputId": "92d15626-15aa-4117-f546-427b8fe04308",
        "colab": {
          "base_uri": "https://localhost:8080/"
        }
      },
      "source": [
        "from gensim.models import TfidfModel\n",
        "\n",
        "# Generate the tf-idf model\n",
        "model = TfidfModel(bows)\n",
        "\n",
        "model[bows[titles_idx['OriginofSpecies']][:5]]"
      ],
      "execution_count": 34,
      "outputs": [
        {
          "output_type": "execute_result",
          "data": {
            "text/plain": [
              "[(1, 0.5868992480438079),\n",
              " (2, 0.5868992480438079),\n",
              " (3, 0.3943973537507736),\n",
              " (4, 0.3943973537507736)]"
            ]
          },
          "metadata": {
            "tags": []
          },
          "execution_count": 34
        }
      ]
    },
    {
      "cell_type": "markdown",
      "metadata": {
        "dc": {
          "key": "59"
        },
        "deletable": false,
        "editable": false,
        "run_control": {
          "frozen": true
        },
        "tags": [
          "context"
        ],
        "id": "dA2vyUDCOLHN"
      },
      "source": [
        "The results of the tf-idf model"
      ]
    },
    {
      "cell_type": "code",
      "metadata": {
        "dc": {
          "key": "59"
        },
        "tags": [
          "sample_code"
        ],
        "trusted": true,
        "id": "AWhdz3iwOLHO",
        "outputId": "d09b0f65-9fd5-40ed-870b-27afed7baf8e",
        "colab": {
          "base_uri": "https://localhost:8080/",
          "height": 359
        }
      },
      "source": [
        "# Converting the tf-idf model for \"On the Origin of Species\" into a DataFrame\n",
        "df_tfidf = pd.DataFrame(model[bows[titles_idx['OriginofSpecies']]])\n",
        "df_tfidf.head()\n",
        "\n",
        "df_tfidf.columns = ['id', 'scores']\n",
        "\n",
        "# Adding the tokens corresponding to the numerical indices for better readability\n",
        "df_tfidf['token'] = [dictionary[i] for i in df_tfidf.id]\n",
        "df_tfidf.tail()\n",
        "\n",
        "df_tfidf.sort_values(by='scores', ascending=False).head(10)"
      ],
      "execution_count": 35,
      "outputs": [
        {
          "output_type": "execute_result",
          "data": {
            "text/html": [
              "<div>\n",
              "<style scoped>\n",
              "    .dataframe tbody tr th:only-of-type {\n",
              "        vertical-align: middle;\n",
              "    }\n",
              "\n",
              "    .dataframe tbody tr th {\n",
              "        vertical-align: top;\n",
              "    }\n",
              "\n",
              "    .dataframe thead th {\n",
              "        text-align: right;\n",
              "    }\n",
              "</style>\n",
              "<table border=\"1\" class=\"dataframe\">\n",
              "  <thead>\n",
              "    <tr style=\"text-align: right;\">\n",
              "      <th></th>\n",
              "      <th>id</th>\n",
              "      <th>scores</th>\n",
              "      <th>token</th>\n",
              "    </tr>\n",
              "  </thead>\n",
              "  <tbody>\n",
              "    <tr>\n",
              "      <th>2160</th>\n",
              "      <td>3620</td>\n",
              "      <td>0.534428</td>\n",
              "      <td>you</td>\n",
              "    </tr>\n",
              "    <tr>\n",
              "      <th>2162</th>\n",
              "      <td>3623</td>\n",
              "      <td>0.452289</td>\n",
              "      <td>your</td>\n",
              "    </tr>\n",
              "    <tr>\n",
              "      <th>504</th>\n",
              "      <td>845</td>\n",
              "      <td>0.385569</td>\n",
              "      <td>dear</td>\n",
              "    </tr>\n",
              "    <tr>\n",
              "      <th>8684</th>\n",
              "      <td>37107</td>\n",
              "      <td>0.330436</td>\n",
              "      <td>yours</td>\n",
              "    </tr>\n",
              "    <tr>\n",
              "      <th>7251</th>\n",
              "      <td>25593</td>\n",
              "      <td>0.110297</td>\n",
              "      <td>sincerely</td>\n",
              "    </tr>\n",
              "    <tr>\n",
              "      <th>6258</th>\n",
              "      <td>18162</td>\n",
              "      <td>0.104749</td>\n",
              "      <td>thank</td>\n",
              "    </tr>\n",
              "    <tr>\n",
              "      <th>3062</th>\n",
              "      <td>5910</td>\n",
              "      <td>0.096629</td>\n",
              "      <td>jd</td>\n",
              "    </tr>\n",
              "    <tr>\n",
              "      <th>1004</th>\n",
              "      <td>1667</td>\n",
              "      <td>0.079970</td>\n",
              "      <td>huxley</td>\n",
              "    </tr>\n",
              "    <tr>\n",
              "      <th>778</th>\n",
              "      <td>1281</td>\n",
              "      <td>0.069118</td>\n",
              "      <td>father</td>\n",
              "    </tr>\n",
              "    <tr>\n",
              "      <th>1662</th>\n",
              "      <td>2769</td>\n",
              "      <td>0.067875</td>\n",
              "      <td>reviews</td>\n",
              "    </tr>\n",
              "  </tbody>\n",
              "</table>\n",
              "</div>"
            ],
            "text/plain": [
              "         id    scores      token\n",
              "2160   3620  0.534428        you\n",
              "2162   3623  0.452289       your\n",
              "504     845  0.385569       dear\n",
              "8684  37107  0.330436      yours\n",
              "7251  25593  0.110297  sincerely\n",
              "6258  18162  0.104749      thank\n",
              "3062   5910  0.096629         jd\n",
              "1004   1667  0.079970     huxley\n",
              "778    1281  0.069118     father\n",
              "1662   2769  0.067875    reviews"
            ]
          },
          "metadata": {
            "tags": []
          },
          "execution_count": 35
        }
      ]
    },
    {
      "cell_type": "markdown",
      "metadata": {
        "dc": {
          "key": "66"
        },
        "deletable": false,
        "editable": false,
        "run_control": {
          "frozen": true
        },
        "tags": [
          "context"
        ],
        "id": "lbgRmBDUOLHQ"
      },
      "source": [
        "\n",
        "Computing distance between texts"
      ]
    },
    {
      "cell_type": "code",
      "metadata": {
        "dc": {
          "key": "66"
        },
        "tags": [
          "sample_code"
        ],
        "trusted": true,
        "id": "Ml8EgIhKOLHR",
        "outputId": "7d456f46-4c26-45c2-c521-b970a041db30",
        "colab": {
          "base_uri": "https://localhost:8080/",
          "height": 413
        }
      },
      "source": [
        "from gensim import similarities\n",
        "\n",
        "# Computing the similarity matrix (pairwise distance between all texts)\n",
        "sims = similarities.MatrixSimilarity(model[bows])\n",
        "\n",
        "sim_df = pd.DataFrame(list(sims))\n",
        "sim_df.head()\n",
        "\n",
        "sim_df.columns = titles\n",
        "sim_df.index = titles\n",
        "\n",
        "sim_df.head(10)"
      ],
      "execution_count": 36,
      "outputs": [
        {
          "output_type": "stream",
          "text": [
            "/usr/local/lib/python3.6/dist-packages/gensim/matutils.py:737: FutureWarning: Conversion of the second argument of issubdtype from `int` to `np.signedinteger` is deprecated. In future, it will be treated as `np.int64 == np.dtype(int).type`.\n",
            "  if np.issubdtype(vec.dtype, np.int):\n"
          ],
          "name": "stderr"
        },
        {
          "output_type": "execute_result",
          "data": {
            "text/html": [
              "<div>\n",
              "<style scoped>\n",
              "    .dataframe tbody tr th:only-of-type {\n",
              "        vertical-align: middle;\n",
              "    }\n",
              "\n",
              "    .dataframe tbody tr th {\n",
              "        vertical-align: top;\n",
              "    }\n",
              "\n",
              "    .dataframe thead th {\n",
              "        text-align: right;\n",
              "    }\n",
              "</style>\n",
              "<table border=\"1\" class=\"dataframe\">\n",
              "  <thead>\n",
              "    <tr style=\"text-align: right;\">\n",
              "      <th></th>\n",
              "      <th>VoyageBeagle</th>\n",
              "      <th>VolcanicIslands</th>\n",
              "      <th>VariationPlantsAnimalsDomestication</th>\n",
              "      <th>InsectivorousPlants</th>\n",
              "      <th>ExpressionofEmotionManAnimals</th>\n",
              "      <th>DifferentFormsofFlowers</th>\n",
              "      <th>LifeandLettersVol2</th>\n",
              "      <th>CoralReefs</th>\n",
              "      <th>MovementClimbingPlants</th>\n",
              "      <th>LifeandLettersVol1</th>\n",
              "      <th>EffectsCrossSelfFertilization</th>\n",
              "      <th>OriginofSpecies</th>\n",
              "      <th>Autobiography</th>\n",
              "      <th>GeologicalObservationsSouthAmerica</th>\n",
              "      <th>FormationVegetableMould</th>\n",
              "      <th>PowerMovementPlants</th>\n",
              "      <th>FoundationsOriginofSpecies</th>\n",
              "      <th>MonographCirripedia</th>\n",
              "      <th>MonographCirripediaVol2</th>\n",
              "      <th>DescentofMan</th>\n",
              "    </tr>\n",
              "  </thead>\n",
              "  <tbody>\n",
              "    <tr>\n",
              "      <th>VoyageBeagle</th>\n",
              "      <td>0.999999</td>\n",
              "      <td>0.037763</td>\n",
              "      <td>0.073565</td>\n",
              "      <td>0.022984</td>\n",
              "      <td>0.027009</td>\n",
              "      <td>0.071788</td>\n",
              "      <td>0.019474</td>\n",
              "      <td>0.044818</td>\n",
              "      <td>0.027382</td>\n",
              "      <td>0.012950</td>\n",
              "      <td>0.363053</td>\n",
              "      <td>0.200348</td>\n",
              "      <td>0.005080</td>\n",
              "      <td>0.009030</td>\n",
              "      <td>0.013021</td>\n",
              "      <td>0.079280</td>\n",
              "      <td>0.011180</td>\n",
              "      <td>0.039296</td>\n",
              "      <td>0.035690</td>\n",
              "      <td>0.132210</td>\n",
              "    </tr>\n",
              "    <tr>\n",
              "      <th>VolcanicIslands</th>\n",
              "      <td>0.037763</td>\n",
              "      <td>1.000000</td>\n",
              "      <td>0.010383</td>\n",
              "      <td>0.001398</td>\n",
              "      <td>0.001680</td>\n",
              "      <td>0.005364</td>\n",
              "      <td>0.013977</td>\n",
              "      <td>0.018302</td>\n",
              "      <td>0.061831</td>\n",
              "      <td>0.002842</td>\n",
              "      <td>0.028983</td>\n",
              "      <td>0.016621</td>\n",
              "      <td>0.006103</td>\n",
              "      <td>0.009181</td>\n",
              "      <td>0.001958</td>\n",
              "      <td>0.036184</td>\n",
              "      <td>0.003183</td>\n",
              "      <td>0.011473</td>\n",
              "      <td>0.063734</td>\n",
              "      <td>0.166171</td>\n",
              "    </tr>\n",
              "    <tr>\n",
              "      <th>VariationPlantsAnimalsDomestication</th>\n",
              "      <td>0.073565</td>\n",
              "      <td>0.010383</td>\n",
              "      <td>1.000000</td>\n",
              "      <td>0.033310</td>\n",
              "      <td>0.022647</td>\n",
              "      <td>0.153524</td>\n",
              "      <td>0.016441</td>\n",
              "      <td>0.112429</td>\n",
              "      <td>0.010988</td>\n",
              "      <td>0.009909</td>\n",
              "      <td>0.061371</td>\n",
              "      <td>0.077041</td>\n",
              "      <td>0.045483</td>\n",
              "      <td>0.038314</td>\n",
              "      <td>0.007139</td>\n",
              "      <td>0.226864</td>\n",
              "      <td>0.013693</td>\n",
              "      <td>0.199883</td>\n",
              "      <td>0.010202</td>\n",
              "      <td>0.115582</td>\n",
              "    </tr>\n",
              "    <tr>\n",
              "      <th>InsectivorousPlants</th>\n",
              "      <td>0.022984</td>\n",
              "      <td>0.001398</td>\n",
              "      <td>0.033310</td>\n",
              "      <td>1.000000</td>\n",
              "      <td>0.151034</td>\n",
              "      <td>0.003635</td>\n",
              "      <td>0.003259</td>\n",
              "      <td>0.018826</td>\n",
              "      <td>0.001918</td>\n",
              "      <td>0.004797</td>\n",
              "      <td>0.006986</td>\n",
              "      <td>0.022492</td>\n",
              "      <td>0.004660</td>\n",
              "      <td>0.002968</td>\n",
              "      <td>0.005972</td>\n",
              "      <td>0.070300</td>\n",
              "      <td>0.010728</td>\n",
              "      <td>0.029712</td>\n",
              "      <td>0.001863</td>\n",
              "      <td>0.006735</td>\n",
              "    </tr>\n",
              "    <tr>\n",
              "      <th>ExpressionofEmotionManAnimals</th>\n",
              "      <td>0.027009</td>\n",
              "      <td>0.001680</td>\n",
              "      <td>0.022647</td>\n",
              "      <td>0.151034</td>\n",
              "      <td>0.999999</td>\n",
              "      <td>0.004913</td>\n",
              "      <td>0.013041</td>\n",
              "      <td>0.025165</td>\n",
              "      <td>0.002772</td>\n",
              "      <td>0.006275</td>\n",
              "      <td>0.011643</td>\n",
              "      <td>0.020331</td>\n",
              "      <td>0.002366</td>\n",
              "      <td>0.002315</td>\n",
              "      <td>0.011952</td>\n",
              "      <td>0.093353</td>\n",
              "      <td>0.032216</td>\n",
              "      <td>0.037963</td>\n",
              "      <td>0.002200</td>\n",
              "      <td>0.012626</td>\n",
              "    </tr>\n",
              "    <tr>\n",
              "      <th>DifferentFormsofFlowers</th>\n",
              "      <td>0.071788</td>\n",
              "      <td>0.005364</td>\n",
              "      <td>0.153524</td>\n",
              "      <td>0.003635</td>\n",
              "      <td>0.004913</td>\n",
              "      <td>0.999999</td>\n",
              "      <td>0.012178</td>\n",
              "      <td>0.034316</td>\n",
              "      <td>0.006004</td>\n",
              "      <td>0.011990</td>\n",
              "      <td>0.060973</td>\n",
              "      <td>0.045858</td>\n",
              "      <td>0.015729</td>\n",
              "      <td>0.024753</td>\n",
              "      <td>0.008899</td>\n",
              "      <td>0.052914</td>\n",
              "      <td>0.012706</td>\n",
              "      <td>0.071271</td>\n",
              "      <td>0.006461</td>\n",
              "      <td>0.084771</td>\n",
              "    </tr>\n",
              "    <tr>\n",
              "      <th>LifeandLettersVol2</th>\n",
              "      <td>0.019474</td>\n",
              "      <td>0.013977</td>\n",
              "      <td>0.016441</td>\n",
              "      <td>0.003259</td>\n",
              "      <td>0.013041</td>\n",
              "      <td>0.012178</td>\n",
              "      <td>1.000001</td>\n",
              "      <td>0.009199</td>\n",
              "      <td>0.031920</td>\n",
              "      <td>0.020830</td>\n",
              "      <td>0.014461</td>\n",
              "      <td>0.013121</td>\n",
              "      <td>0.010840</td>\n",
              "      <td>0.012107</td>\n",
              "      <td>0.016173</td>\n",
              "      <td>0.024094</td>\n",
              "      <td>0.022207</td>\n",
              "      <td>0.015919</td>\n",
              "      <td>0.031195</td>\n",
              "      <td>0.050351</td>\n",
              "    </tr>\n",
              "    <tr>\n",
              "      <th>CoralReefs</th>\n",
              "      <td>0.044818</td>\n",
              "      <td>0.018302</td>\n",
              "      <td>0.112429</td>\n",
              "      <td>0.018826</td>\n",
              "      <td>0.025165</td>\n",
              "      <td>0.034316</td>\n",
              "      <td>0.009199</td>\n",
              "      <td>1.000000</td>\n",
              "      <td>0.025709</td>\n",
              "      <td>0.004637</td>\n",
              "      <td>0.048700</td>\n",
              "      <td>0.045122</td>\n",
              "      <td>0.007037</td>\n",
              "      <td>0.009449</td>\n",
              "      <td>0.004196</td>\n",
              "      <td>0.252211</td>\n",
              "      <td>0.007562</td>\n",
              "      <td>0.135802</td>\n",
              "      <td>0.017466</td>\n",
              "      <td>0.066331</td>\n",
              "    </tr>\n",
              "    <tr>\n",
              "      <th>MovementClimbingPlants</th>\n",
              "      <td>0.027382</td>\n",
              "      <td>0.061831</td>\n",
              "      <td>0.010988</td>\n",
              "      <td>0.001918</td>\n",
              "      <td>0.002772</td>\n",
              "      <td>0.006004</td>\n",
              "      <td>0.031920</td>\n",
              "      <td>0.025709</td>\n",
              "      <td>1.000000</td>\n",
              "      <td>0.008895</td>\n",
              "      <td>0.027908</td>\n",
              "      <td>0.012986</td>\n",
              "      <td>0.009981</td>\n",
              "      <td>0.018159</td>\n",
              "      <td>0.003022</td>\n",
              "      <td>0.054862</td>\n",
              "      <td>0.004830</td>\n",
              "      <td>0.013103</td>\n",
              "      <td>0.378581</td>\n",
              "      <td>0.233478</td>\n",
              "    </tr>\n",
              "    <tr>\n",
              "      <th>LifeandLettersVol1</th>\n",
              "      <td>0.012950</td>\n",
              "      <td>0.002842</td>\n",
              "      <td>0.009909</td>\n",
              "      <td>0.004797</td>\n",
              "      <td>0.006275</td>\n",
              "      <td>0.011990</td>\n",
              "      <td>0.020830</td>\n",
              "      <td>0.004637</td>\n",
              "      <td>0.008895</td>\n",
              "      <td>1.000000</td>\n",
              "      <td>0.006026</td>\n",
              "      <td>0.016261</td>\n",
              "      <td>0.018050</td>\n",
              "      <td>0.021305</td>\n",
              "      <td>0.285608</td>\n",
              "      <td>0.013063</td>\n",
              "      <td>0.025108</td>\n",
              "      <td>0.009410</td>\n",
              "      <td>0.011479</td>\n",
              "      <td>0.014205</td>\n",
              "    </tr>\n",
              "  </tbody>\n",
              "</table>\n",
              "</div>"
            ],
            "text/plain": [
              "                                     VoyageBeagle  ...  DescentofMan\n",
              "VoyageBeagle                             0.999999  ...      0.132210\n",
              "VolcanicIslands                          0.037763  ...      0.166171\n",
              "VariationPlantsAnimalsDomestication      0.073565  ...      0.115582\n",
              "InsectivorousPlants                      0.022984  ...      0.006735\n",
              "ExpressionofEmotionManAnimals            0.027009  ...      0.012626\n",
              "DifferentFormsofFlowers                  0.071788  ...      0.084771\n",
              "LifeandLettersVol2                       0.019474  ...      0.050351\n",
              "CoralReefs                               0.044818  ...      0.066331\n",
              "MovementClimbingPlants                   0.027382  ...      0.233478\n",
              "LifeandLettersVol1                       0.012950  ...      0.014205\n",
              "\n",
              "[10 rows x 20 columns]"
            ]
          },
          "metadata": {
            "tags": []
          },
          "execution_count": 36
        }
      ]
    },
    {
      "cell_type": "markdown",
      "metadata": {
        "dc": {
          "key": "73"
        },
        "deletable": false,
        "editable": false,
        "run_control": {
          "frozen": true
        },
        "tags": [
          "context"
        ],
        "id": "6avrs_B_OLHU"
      },
      "source": [
        "\n",
        "The book most similar to \"On the Origin of Species\""
      ]
    },
    {
      "cell_type": "code",
      "metadata": {
        "dc": {
          "key": "73"
        },
        "tags": [
          "sample_code"
        ],
        "trusted": true,
        "id": "mS_j3tUSOLHV",
        "outputId": "59aeb6b9-71da-49df-9042-6c5285bdfb33",
        "colab": {
          "base_uri": "https://localhost:8080/",
          "height": 312
        }
      },
      "source": [
        "\n",
        "%matplotlib inline\n",
        "import matplotlib.pyplot as plt\n",
        "\n",
        "# Selecting the column corresponding to \"On the Origin of Species\" and \n",
        "v = sim_df['OriginofSpecies']\n",
        "\n",
        "v_sorted = v.sort_values()\n",
        "v_sorted[:5]\n",
        "\n",
        "plot_sim = v_sorted.plot.barh(x='lab', y='val', rot=0).plot()\n",
        "\n",
        "plt.xlabel(\"Cosine distance\")\n",
        "plt.ylabel(\"\")\n",
        "plt.title(\"Most similar books to 'On the Origin of Species'\")\n"
      ],
      "execution_count": 37,
      "outputs": [
        {
          "output_type": "execute_result",
          "data": {
            "text/plain": [
              "Text(0.5, 1.0, \"Most similar books to 'On the Origin of Species'\")"
            ]
          },
          "metadata": {
            "tags": []
          },
          "execution_count": 37
        },
        {
          "output_type": "display_data",
          "data": {
            "image/png": "[encoded data removed]",
            "text/plain": [
              "<Figure size 432x288 with 1 Axes>"
            ]
          },
          "metadata": {
            "tags": [],
            "needs_background": "light"
          }
        }
      ]
    },
    {
      "cell_type": "markdown",
      "metadata": {
        "dc": {
          "key": "80"
        },
        "deletable": false,
        "editable": false,
        "run_control": {
          "frozen": true
        },
        "tags": [
          "context"
        ],
        "id": "XR9_LLwAOLHY"
      },
      "source": [
        "## Books having similar content"
      ]
    },
    {
      "cell_type": "code",
      "metadata": {
        "dc": {
          "key": "80"
        },
        "tags": [
          "sample_code"
        ],
        "trusted": true,
        "id": "u1GS93mNOLHY",
        "outputId": "2f8bbf32-1831-403c-e8f9-f3bd28b48e07",
        "colab": {
          "base_uri": "https://localhost:8080/",
          "height": 265
        }
      },
      "source": [
        "from scipy.cluster import hierarchy\n",
        "\n",
        "# Computeing the clusters from the similarity matrix, using the Ward variance minimization algorithm\n",
        "Z = hierarchy.linkage(sim_df, 'ward')\n",
        "\n",
        "# Displaying this result as a horizontal dendrogram\n",
        "a = hierarchy.dendrogram(Z, leaf_font_size=8, labels=sim_df.index, orientation='left')"
      ],
      "execution_count": 38,
      "outputs": [
        {
          "output_type": "display_data",
          "data": {
            "image/png": "[encoded data removed]",
            "text/plain": [
              "<Figure size 432x288 with 1 Axes>"
            ]
          },
          "metadata": {
            "tags": [],
            "needs_background": "light"
          }
        }
      ]
    }
  ]
}